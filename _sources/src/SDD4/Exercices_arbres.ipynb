{
 "cells": [
  {
   "cell_type": "markdown",
   "metadata": {},
   "source": [
    "Exercices - Arbres\n",
    "==============="
   ]
  },
  {
   "cell_type": "markdown",
   "metadata": {},
   "source": [
    "## Le cours"
   ]
  },
  {
   "cell_type": "markdown",
   "metadata": {},
   "source": [
    "![arbre1](img/exp59.png)"
   ]
  },
  {
   "cell_type": "markdown",
   "metadata": {},
   "source": [
    "1. Quelles sont la taille et la hauteur de cet arbre ?\n",
    "2. Dans un parcours infixe, donner l'ordre des noeuds visités."
   ]
  },
  {
   "cell_type": "markdown",
   "metadata": {},
   "source": [
    "**Données**"
   ]
  },
  {
   "cell_type": "code",
   "execution_count": 2,
   "metadata": {},
   "outputs": [],
   "source": [
    "class Noeud:\n",
    "    \"\"\" Une classe pour modéliser les noeuds d'un arbre\"\"\"\n",
    "    \n",
    "    def __init__(self, v, fg, fd):\n",
    "        self.val = v\n",
    "        self.gauche = fg\n",
    "        self.droit = fd "
   ]
  },
  {
   "cell_type": "code",
   "execution_count": 2,
   "metadata": {},
   "outputs": [],
   "source": [
    "arb1 = Noeud('1',\n",
    "             Noeud('2', Noeud('4', None, None), Noeud('5', None, None)),\n",
    "             Noeud('3', Noeud('6', \n",
    "                             Noeud('8', Noeud('10', None, None), Noeud('11', None, None)),\n",
    "                             Noeud('9', Noeud('12', None, None), Noeud('13', None, None))),\n",
    "                  Noeud('7', None, None))\n",
    ")"
   ]
  },
  {
   "cell_type": "markdown",
   "metadata": {},
   "source": [
    "## Applications directes"
   ]
  },
  {
   "cell_type": "markdown",
   "metadata": {},
   "source": [
    "Soit l'arbre de la figure suivante.  \n",
    "\n",
    "![exp305](img/exp305.png)  \n",
    "\n",
    "1. En utilisant la classe `Noeud` de l'exercice précédent, définir un objet `arb2` qui pourrait le décrire. *Pour éviter les ambiguités: G est le fils droit de D et F est le fils gauche de C*\n",
    "2. Quelle est la hauteur de cet arbre?\n",
    "3. Donner les noeuds visités lors d'un parcours postfixe.\n",
    "4. Ecrire une fonction récursive `affiche`qui:  \n",
    "\n",
    "   * affiche un point `.` et qui ne renvoie rien pour un arbre vide;\n",
    "   * affiche une parenthèse ouvrante ` (`, le sous arbre gauche, le sous arbre droit, la valeur et enfin une parenthèse fermante ` )`.  \n",
    "   \n",
    " Par exemple pour l'arbre présenté ici, `affiche(arb2)` fournit:  \n",
    "```\n",
    "( ( (. (..G )D ) (..E )B ) ( (..F ).C )A )\n",
    "```\n",
    "\n",
    "5. Dessiner l'arbre qui fournit `( (. (..C )B )(..D )A )`"
   ]
  },
  {
   "cell_type": "markdown",
   "metadata": {},
   "source": [
    "## Un peigne gauche"
   ]
  },
  {
   "cell_type": "markdown",
   "metadata": {},
   "source": [
    "Ecrire une fonction qui prend en paramètre un entier naturel $h$ et qui renvoie un arbre de hauteur $h$ où chaque noeud n'a **pas de sous arbre droit**. Vérifier le résultat avec la fonction `affiche` de l'exercice précédent.  \n",
    "\n",
    "**Indication**: deux méthodes sont acceptées: récursive ou itérative.  \n",
    "\n",
    "**Méthode récursive**  \n",
    "peigne_recursif(h)  \n",
    "\n",
    "un peigne vide a une hauteur nulle;  \n",
    "un peigne de hauteur h est un noeud dont:  \n",
    "* la valeur est h;\n",
    "* le sous arbre gauche est un peigne de hauteur h-1;\n",
    "* le sous arbre droit est vide"
   ]
  }
 ],
 "metadata": {
  "kernelspec": {
   "display_name": "Python 3",
   "language": "python",
   "name": "python3"
  },
  "language_info": {
   "codemirror_mode": {
    "name": "ipython",
    "version": 3
   },
   "file_extension": ".py",
   "mimetype": "text/x-python",
   "name": "python",
   "nbconvert_exporter": "python",
   "pygments_lexer": "ipython3",
   "version": "3.8.3"
  },
  "toc": {
   "base_numbering": 1,
   "nav_menu": {},
   "number_sections": true,
   "sideBar": true,
   "skip_h1_title": false,
   "title_cell": "Table of Contents",
   "title_sidebar": "Contents",
   "toc_cell": false,
   "toc_position": {},
   "toc_section_display": true,
   "toc_window_display": false
  }
 },
 "nbformat": 4,
 "nbformat_minor": 4
}
