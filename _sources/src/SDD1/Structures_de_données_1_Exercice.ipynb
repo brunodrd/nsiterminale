{
 "cells": [
  {
   "cell_type": "markdown",
   "metadata": {},
   "source": [
    "Exercice: implémenter une file bornée avec un tableau\n",
    "============================================"
   ]
  },
  {
   "cell_type": "markdown",
   "metadata": {},
   "source": [
    "\n",
    "On propose ici une autre réalisation possible d'une file bornée à partir d'un tableau.  La file sera repérée par deux index `tete` et `queue`. On enfile par la queue et défile par la tête."
   ]
  },
  {
   "cell_type": "markdown",
   "metadata": {},
   "source": [
    "Soit $N$ la taille de la file. On prévoit un tableau de taille $N+3$ car on souhaite stocker également:"
   ]
  },
  {
   "cell_type": "markdown",
   "metadata": {},
   "source": [
    "* la position de la tête (index 0);  \n",
    "* la position de la queue (index 1);  \n",
    "* la longueur effective de la file (index 3)  \n",
    "\n",
    "La position de la queue indique l'endroit où sera enfilée la prochaine donnée. La figure (a) ci-dessous montre une file `f` de taille maximale 7, dans laquelle figure 4 éléments. Après les opérations:  \n",
    "```python\n",
    "defiler(f)\n",
    "defiler(f)\n",
    "enfiler(f, 4)\n",
    "enfiler(f, 17)\n",
    "enfiler(f, 10)\n",
    "```\n",
    "on se trouve dans la situation (b)."
   ]
  },
  {
   "cell_type": "markdown",
   "metadata": {},
   "source": [
    "![file](img/file_tab.png)"
   ]
  },
  {
   "cell_type": "code",
   "execution_count": 63,
   "metadata": {},
   "outputs": [],
   "source": [
    "N = 5\n",
    "\n",
    "def creer_file(taille=N):\n",
    "    #création d'un tableau ayant 3 cases supplémentaires par rapport à la taille de la file\n",
    "    f = [None] * (taille + 3)\n",
    "    #index 0: position de la tête, initialisée à 3\n",
    "    #index 1: position de la queue, initialisée à 3\n",
    "    #index 2: longueur courante de la file, initialisée à 0\n",
    "    f[0], f[1], f[2] = 3, 3, 0\n",
    "    return f\n",
    "\n",
    "def enfiler(f, val):\n",
    "    long = f[2]\n",
    "    assert long != len(f) - 3, \"Erreur: file pleine\"\n",
    "    pos_queue = f[1]\n",
    "    f[pos_queue] = val\n",
    "    #réajustement de la queue\n",
    "    if pos_queue == N + 2:\n",
    "        f[1] = 3\n",
    "    else:\n",
    "        f[1] = f[1] + 1\n",
    "    #réajustement de la longueur de la file\n",
    "    f[2] = long + 1\n",
    "\n",
    "def defiler(f):\n",
    "    assert not est_filevide(f), \"Erreur: file vide\"\n",
    "    pos_tete = f[0]\n",
    "    long = f[2]\n",
    "    val = f[pos_tete]\n",
    "    #réajustement de l'index de la tête\n",
    "    if pos_tete == N + 2:\n",
    "        f[0] = 3\n",
    "    else:\n",
    "        f[0] = f[0] + 1\n",
    "    #réajustement de la longueur de la file\n",
    "    f[2] = long - 1\n",
    "    return val\n",
    "\n",
    "def est_filevide(f):\n",
    "    return f[2] == 0"
   ]
  },
  {
   "cell_type": "markdown",
   "metadata": {},
   "source": [
    "1. A partir des informations disponibles:  \n",
    "  * dire combien d'opérations sont autorisées sur cette structure;\n",
    "  * rédiger leur spécification.\n",
    "  \n",
    "2. Prévoir les réponses de l'interpréteur python après les séquences de commandes suivantes (*qui se suivent!*):  \n",
    "\n",
    "Séquence 1\n",
    "```python\n",
    "f = creer_file()\n",
    "est_filevide(f)\n",
    "```  \n",
    "\n",
    "Séquence 2\n",
    "```python\n",
    "enfiler(f, 5)\n",
    "est_filevide(f)\n",
    "```\n",
    "\n",
    "Séquence 3\n",
    "```python\n",
    "enfiler(f, -10)\n",
    "enfiler(f, 25)\n",
    "enfiler(f, -35)\n",
    "while not est_filevide(f):\n",
    "    print(defiler(f), end=' ')\n",
    "```\n",
    "\n",
    "Séquence 4\n",
    "```python\n",
    "f2 = creer_file(3)\n",
    "enfiler(f2, 10)\n",
    "enfiler(f2, 100)\n",
    "enfiler(f2, 1000)\n",
    "enfiler(f2, 50)\n",
    "```\n",
    "\n",
    "3. (+++) Quels pourraient être les avantages / inconvénients de cettte implémentation d'une file comparée à celle utilisant une *liste de python* du cours ?"
   ]
  },
  {
   "cell_type": "code",
   "execution_count": null,
   "metadata": {},
   "outputs": [],
   "source": []
  }
 ],
 "metadata": {
  "kernelspec": {
   "display_name": "Python 3",
   "language": "python",
   "name": "python3"
  },
  "language_info": {
   "codemirror_mode": {
    "name": "ipython",
    "version": 3
   },
   "file_extension": ".py",
   "mimetype": "text/x-python",
   "name": "python",
   "nbconvert_exporter": "python",
   "pygments_lexer": "ipython3",
   "version": "3.7.4"
  },
  "toc": {
   "base_numbering": 1,
   "nav_menu": {},
   "number_sections": true,
   "sideBar": true,
   "skip_h1_title": false,
   "title_cell": "Table of Contents",
   "title_sidebar": "Contents",
   "toc_cell": false,
   "toc_position": {},
   "toc_section_display": true,
   "toc_window_display": false
  }
 },
 "nbformat": 4,
 "nbformat_minor": 4
}
