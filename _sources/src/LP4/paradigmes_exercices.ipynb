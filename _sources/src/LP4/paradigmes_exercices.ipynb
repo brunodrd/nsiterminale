{
 "cells": [
  {
   "cell_type": "markdown",
   "metadata": {},
   "source": [
    "Paradigmes - Exercices\n",
    "==================="
   ]
  },
  {
   "cell_type": "markdown",
   "metadata": {},
   "source": [
    "## Savoir distinguer les paradigmes"
   ]
  },
  {
   "cell_type": "markdown",
   "metadata": {},
   "source": [
    "En s'inspirant du cours, proposer un code python donnant le maximum d'un tableau (*objet de type* `list`), dans:  \n",
    "\n",
    "* le paradigme impératif;\n",
    "* le paradigme objet;\n",
    "* le paradigme fonctionnel"
   ]
  },
  {
   "cell_type": "markdown",
   "metadata": {},
   "source": [
    "## Les fonctions: first class citizens ***"
   ]
  },
  {
   "cell_type": "markdown",
   "metadata": {},
   "source": [
    "Les fonctions sont des **valeurs** comme les autres. Elles peuvent être **passées en arguments**, **renvoyées comme résultat** ou encore **stockées comme des données**."
   ]
  },
  {
   "cell_type": "markdown",
   "metadata": {},
   "source": [
    "### Exemple 1"
   ]
  },
  {
   "cell_type": "markdown",
   "metadata": {},
   "source": [
    "Ecrire une fonction `applique_deux_fois` qui prend une fonction `f` en paramètre et qui applique deux fois de suite la fonction `f` à son argument `x` avant de le renvoyer (*cette opération est notée* $(f\\circ f)(x)$ *en mathématique*).  \n",
    "Tester votre fonction sur la fonction suivante:  \n",
    "\n",
    "```python\n",
    "def g(x):\n",
    "    return x**2\n",
    "```"
   ]
  },
  {
   "cell_type": "markdown",
   "metadata": {},
   "source": [
    "### Exemple 2 "
   ]
  },
  {
   "cell_type": "markdown",
   "metadata": {},
   "source": [
    "Ecrire une fonction `temps_execution` qui prend en paramètres une fonction `f` et une valeur `x` et qui renvoie un p-uplet formé du résultat de `f(x)` et du temps mis par ce calcul.  \n",
    "Tester votre fonction sur `h(5000)` avec `h` définie de la manière suivante:  \n",
    "\n",
    "```python\n",
    "def h(a):\n",
    "    \"\"\" Fonction complètement inutile\"\"\"\n",
    "    k = 0\n",
    "    for i in range(a):\n",
    "        for j in range(a):\n",
    "            k = k + 1\n",
    "    return k\n",
    "```\n",
    "\n"
   ]
  },
  {
   "cell_type": "code",
   "execution_count": null,
   "metadata": {},
   "outputs": [],
   "source": []
  }
 ],
 "metadata": {
  "kernelspec": {
   "display_name": "Python 3",
   "language": "python",
   "name": "python3"
  },
  "language_info": {
   "codemirror_mode": {
    "name": "ipython",
    "version": 3
   },
   "file_extension": ".py",
   "mimetype": "text/x-python",
   "name": "python",
   "nbconvert_exporter": "python",
   "pygments_lexer": "ipython3",
   "version": "3.7.4"
  },
  "toc": {
   "base_numbering": 1,
   "nav_menu": {},
   "number_sections": true,
   "sideBar": true,
   "skip_h1_title": false,
   "title_cell": "Table of Contents",
   "title_sidebar": "Contents",
   "toc_cell": false,
   "toc_position": {},
   "toc_section_display": true,
   "toc_window_display": false
  }
 },
 "nbformat": 4,
 "nbformat_minor": 4
}
