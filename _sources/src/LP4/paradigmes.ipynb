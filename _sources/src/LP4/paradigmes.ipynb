{
 "cells": [
  {
   "cell_type": "markdown",
   "metadata": {},
   "source": [
    "PARADIGMES DE PROGRAMMATION\n",
    "==============================="
   ]
  },
  {
   "cell_type": "markdown",
   "metadata": {},
   "source": [
    "## Introduction \n",
    "    \n",
    "Un paradigme de programmation est une façon de s'organiser pour concevoir un programme informatique. On peut le voir comme un style de programmation. C'est un critère déterminant pour le choix d'un langage.  \n",
    "\n",
    "Il existe de très nombreux paradigmes de programmation (voir [wikipedia](https://fr.wikipedia.org/wiki/Paradigme_\\(programmation\\)) à ce sujet). Dans le cadre du programme de terminale, on abordera sommairement les caractéristiques des paradigmes:  \n",
    "\n",
    "* impératif;\n",
    "* fonctionnel;\n",
    "* orienté objet.\n",
    "\n",
    "Enfin, on le constatera avec python, les grands langages généralistes actuels sont multi-paradigmes. "
   ]
  },
  {
   "cell_type": "markdown",
   "metadata": {},
   "source": [
    "## Programmation impérative"
   ]
  },
  {
   "cell_type": "markdown",
   "metadata": {},
   "source": [
    "### Les caractéristiques"
   ]
  },
  {
   "cell_type": "markdown",
   "metadata": {},
   "source": [
    "Dans le style impératif, un programme correspond à un ensemble **d'instructions**, qui représentent les actions à réaliser.   \n",
    "La notion de **variable** est importante. Elle correspond à une zone mémoire que l'on pourra lire et modifier . Cette modification de la mémoire est aussi appelée **effet de bord**.  \n",
    "On utilise abondamment des **structures de boucle** (*for*, *while*, etc.).  \n",
    "Les fonctions peuvent exister mais n'ont pas le même sens qu'en mathématique. Elles peuvent être vues comme des **blocs** destinés à mieux structurer le code. Les fonctions qui ne renvoient pas de valeurs sont souvent nommées **procédures**.  \n",
    "\n",
    "Parmi les grands langages impératifs, on peut citer:  \n",
    "\n",
    "* [Fortran](https://fr.wikipedia.org/wiki/Fortran) créé par [John Backus](https://fr.wikipedia.org/wiki/John_Backus) en 1954;\n",
    "* [le langage C](https://fr.wikipedia.org/wiki/C_\\(langage\\)) créé par [Dennis Ritchie](https://fr.wikipedia.org/wiki/Dennis_Ritchie) en 1972.\n",
    "\n",
    "Python permet la programmation impérative. C'est ce que l'on fait depuis la première ..."
   ]
  },
  {
   "cell_type": "markdown",
   "metadata": {},
   "source": [
    "### Exemple de problème résolu dans le style impératif avec Python"
   ]
  },
  {
   "cell_type": "markdown",
   "metadata": {},
   "source": [
    "Concevoir un programme qui cacule la somme des éléments d'un tableau (**sans utiliser la fonction** `sum` **de Python évidemment !!**)."
   ]
  },
  {
   "cell_type": "code",
   "execution_count": 1,
   "metadata": {},
   "outputs": [],
   "source": [
    "t = [2, 8, 9, 18, 15]\n",
    "\n",
    "def sommei(t):\n",
    "    # A compléter\n",
    "    pass\n",
    "\n",
    "# Decommenter\n",
    "#sommei(t)"
   ]
  },
  {
   "cell_type": "markdown",
   "metadata": {},
   "source": [
    "## Programmation fonctionnelle"
   ]
  },
  {
   "cell_type": "markdown",
   "metadata": {},
   "source": [
    "### Les caractéristiques"
   ]
  },
  {
   "cell_type": "markdown",
   "metadata": {},
   "source": [
    "Dans le style fonctionnel, un programme est une suite de **déclarations** (*de fonctions*) suivi d'une **expression**. Une expression est une combinaison d'éléments du langage qui renvoie une valeur. Le programme consiste à **évaluer cette expression**.  \n",
    "\n",
    "Deux caractéristiques importantes:  \n",
    "\n",
    "* **absence de variables** donc d'effets de bords;\n",
    "* **absence d'itérations**, qui seront remplacées par la *récursivité*.\n",
    "\n",
    "Les fonctions (*au sens mathématique du terme ici*) jouent un rôle très important. Elles peuvent être des **expressions**, **passées en paramètres** à d'autres fonctions et même être **renvoyées** par d'autre fonctions !  \n",
    "\n",
    "Parmi les grands langages fonctionnels, on peut citer:  \n",
    "\n",
    "* [Lisp](https://fr.wikipedia.org/wiki/Lisp) créé par [John Mc Carthy](https://fr.wikipedia.org/wiki/John_McCarthy) en 1958;\n",
    "* [Ocaml](https://fr.wikipedia.org/wiki/OCaml) créé par [Xavier Leroy](https://fr.wikipedia.org/wiki/Xavier_Leroy) en 1996;\n",
    "* [Haskell](https://fr.wikipedia.org/wiki/Haskell) créé par une communauté de développeur en 1990. Son nom  a été donné en référence au mathématicien [Haskell Curry](https://fr.wikipedia.org/wiki/Haskell_Curry).  \n",
    "\n",
    "Python implémente des caractéristiques d'un langage fonctionnnel. Voir [documentation officielle](https://docs.python.org/fr/3/howto/functional.html)."
   ]
  },
  {
   "cell_type": "markdown",
   "metadata": {},
   "source": [
    "### Exemple"
   ]
  },
  {
   "cell_type": "markdown",
   "metadata": {},
   "source": [
    "On reprend le même problème que celui donné au paragraphe précédent, mais cette fois on demande d'écrire une solution en style fonctionnel.  \n",
    "\n",
    "*Quelques indications*  \n",
    "On doit se poser la question: **qu'est-ce** que la somme des éléments du tableau ? Réponse: c'est la somme de son premier terme et du reste du tableau. On pose par convention que la somme des éléments d'un tableau vide vaut 0."
   ]
  },
  {
   "cell_type": "code",
   "execution_count": 2,
   "metadata": {},
   "outputs": [],
   "source": [
    "def sommef1(t):\n",
    "    # A compléter\n",
    "    pass\n",
    "\n",
    "# Decommenter\n",
    "#sommef1([2, 8, 9, 18, 15])"
   ]
  },
  {
   "cell_type": "markdown",
   "metadata": {},
   "source": [
    "*Remarques*:  \n",
    "\n",
    "* `t[0]` est le 1er élément du tableau et `t[1:]` le reste;\n",
    "* la définition de la somme des éléments d'un tableau est récursive;\n",
    "* dans le style fonctionnel  on adopte fréquemment une écriture plus concise, du type: `return expr if ... else ...` (voir ci-dessous)."
   ]
  },
  {
   "cell_type": "code",
   "execution_count": 1,
   "metadata": {},
   "outputs": [],
   "source": [
    "# Decommenter\n",
    "#def sommef2(t):\n",
    "#    return 0 if t == [] else t[0] + sommef2(t[1:])\n",
    "#\n",
    "#sommef2([2, 8, 9, 18, 15])"
   ]
  },
  {
   "cell_type": "markdown",
   "metadata": {},
   "source": [
    "## Programmation orientée objet"
   ]
  },
  {
   "cell_type": "markdown",
   "metadata": {},
   "source": [
    "### Les caractéristiques"
   ]
  },
  {
   "cell_type": "markdown",
   "metadata": {},
   "source": [
    "Ce paradigme est basé sur la notion **d'objet** qui peut être vu comme une zone mémoire qui possède ses propres **attributs** et méthodes.  L'objet expose uniquement les méthodes prévues dans son interface, tout en cachant les détails d'implémentations. C'est le mécanisme **d'encapsulation**.  \n",
    "L'objet est construit à partir de **classes** (*dans beaucoup de langages*).  \n",
    "D'autres aspects importants caractérisant la POO peuvent être cités mais sont clairement exclus du programme de terminal.\n",
    "\n",
    "Parmi les grands langages orientés objet, on peut citer:  \n",
    "\n",
    "* [C++](https://fr.wikipedia.org/wiki/C%2B%2B) qui peut être vu comme une extension du langage C, créé en 1983 par [Bjarne Stroustrup](https://fr.wikipedia.org/wiki/Bjarne_Stroustrup);\n",
    "* [Java](https://fr.wikipedia.org/wiki/Java_\\(technique\\)) créé en 1990 par [James Gosling](https://fr.wikipedia.org/wiki/James_Gosling);\n",
    "* [Python](https://fr.wikipedia.org/wiki/Python_\\(langage\\)) créé 1991 par [Guido van Rossum](https://fr.wikipedia.org/wiki/Guido_van_Rossum)."
   ]
  },
  {
   "cell_type": "markdown",
   "metadata": {},
   "source": [
    "### Exemple"
   ]
  },
  {
   "cell_type": "markdown",
   "metadata": {},
   "source": [
    "On résoud le même problème qu'aux deux paragraphes précédents."
   ]
  },
  {
   "cell_type": "code",
   "execution_count": null,
   "metadata": {},
   "outputs": [],
   "source": [
    "class Tableau:\n",
    "    # A compléter\n",
    "    pass\n",
    "\n",
    "# Decommenter\n",
    "#tab = Tableau([2, 8, 9, 18, 15])\n",
    "#tab.somme()"
   ]
  },
  {
   "cell_type": "markdown",
   "metadata": {},
   "source": [
    "## Choisir un paradigme"
   ]
  },
  {
   "cell_type": "markdown",
   "metadata": {},
   "source": [
    "Le choix d'un paradigme, puis d'un langage, dépend fortement de la nature du problème à résoudre et de l'expérience du programmeur.  \n",
    "\n",
    "Pour les problèmes où l'algorithme laisse clairement apparaître une liste d'actions, la programmation impérative est un bon choix.  \n",
    "\n",
    "Si le problème à résoudre fait apparaître des interactions entre entités et surtout si c'est un gros projet, la programmation orienté objet est probablement à privilégier."
   ]
  },
  {
   "cell_type": "code",
   "execution_count": null,
   "metadata": {},
   "outputs": [],
   "source": []
  }
 ],
 "metadata": {
  "kernelspec": {
   "display_name": "Python 3",
   "language": "python",
   "name": "python3"
  },
  "language_info": {
   "codemirror_mode": {
    "name": "ipython",
    "version": 3
   },
   "file_extension": ".py",
   "mimetype": "text/x-python",
   "name": "python",
   "nbconvert_exporter": "python",
   "pygments_lexer": "ipython3",
   "version": "3.8.3"
  },
  "toc": {
   "base_numbering": 1,
   "nav_menu": {},
   "number_sections": true,
   "sideBar": true,
   "skip_h1_title": false,
   "title_cell": "Table of Contents",
   "title_sidebar": "Contents",
   "toc_cell": false,
   "toc_position": {},
   "toc_section_display": true,
   "toc_window_display": false
  }
 },
 "nbformat": 4,
 "nbformat_minor": 4
}
