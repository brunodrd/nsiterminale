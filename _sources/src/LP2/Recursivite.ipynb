{
 "cells": [
  {
   "cell_type": "markdown",
   "metadata": {},
   "source": [
    "RECURSIVITE\n",
    "============"
   ]
  },
  {
   "cell_type": "code",
   "execution_count": null,
   "metadata": {},
   "outputs": [],
   "source": [
    "# AUTO EVALUATION - A EXECUTER !\n",
    "# Imports utiles à l'auto-évaluation - Décommenter la ligne ci-dessous\n",
    "#from correction import q1, q2"
   ]
  },
  {
   "cell_type": "markdown",
   "metadata": {},
   "source": [
    "## Introduction"
   ]
  },
  {
   "cell_type": "markdown",
   "metadata": {},
   "source": [
    "Soit le problème simple du calcul de la somme des $n+1$ premiers entiers naturels:  \n",
    "\n",
    "$$\n",
    "0+1+2+3+\\cdots+n\n",
    "$$  \n",
    "\n",
    "Les connaissances de première permettent de résoudre très facilement ce problème en utilisant une boucle (`for`ou `while`):"
   ]
  },
  {
   "cell_type": "code",
   "execution_count": null,
   "metadata": {},
   "outputs": [],
   "source": [
    "def somme(n):\n",
    "    \"\"\"\n",
    "    Renvoie la somme des n entiers compris entre 0 et n;\n",
    "    n: entier naturel positif\n",
    "    \"\"\"\n",
    "    s = 0\n",
    "    for i in range(n+1):\n",
    "        s += i\n",
    "    return s"
   ]
  },
  {
   "cell_type": "code",
   "execution_count": null,
   "metadata": {},
   "outputs": [],
   "source": [
    "somme(8)"
   ]
  },
  {
   "cell_type": "markdown",
   "metadata": {},
   "source": [
    "En procédant ainsi on a résolu le problème en expliquant **comment** calculer `somme(n)`. On aurait pu aussi arriver au même résultat en expliquant **c'est quoi** `somme(n)`.  En effet,  \n",
    "\n",
    "$$\n",
    "\\underbrace{0+1+2+3+\\cdots+(n-1)}_{somme(n-1)}+n=somme(n-1)+n\n",
    "$$\n",
    "\n",
    "Ainsi on peut calculer la valeur de `somme(n)` comme étant une fonction mathématique de $n$:  \n",
    "\n",
    "$$\n",
    "somme(n)=\n",
    "\\begin{cases}\n",
    "0 & \\text{si } n=0 \\\\\n",
    "n+somme(n-1) & \\text{si } n\\geq 1\n",
    "\\end{cases}\n",
    "$$\n",
    "\n",
    "En python, cela se programme facilement:"
   ]
  },
  {
   "cell_type": "code",
   "execution_count": null,
   "metadata": {},
   "outputs": [],
   "source": [
    "def somme_rec(n):\n",
    "    if n == 0:\n",
    "        return 0\n",
    "    else:\n",
    "        return n + somme_rec(n-1)"
   ]
  },
  {
   "cell_type": "code",
   "execution_count": null,
   "metadata": {},
   "outputs": [],
   "source": [
    "somme_rec(3)"
   ]
  },
  {
   "cell_type": "markdown",
   "metadata": {},
   "source": [
    "On remarque que `somme_rec(n)` fait appel à `somme_rec(n-1)`. Une fonction qui fait appel à elle même est dite **récursive**."
   ]
  },
  {
   "cell_type": "markdown",
   "metadata": {},
   "source": [
    "**Exercice d'application directe** (*Auto-évaluation possible*)  \n",
    "La puissance $n$-ième d'un nombre $x$ est la multiplication répétée $n$ fois de $x$ avec lui même. Par convention $x^0=1$. La puissance $n$-ième de $x$ s'écrit:  \n",
    "\n",
    "$$\n",
    "x^n = \\underbrace{x\\times \\cdots \\times x}_{n-1 \\text{ fois}}\\times x=x^{n-1}\\times x\n",
    "$$\n",
    "\n",
    "On peut donc définir une fonction `puissance` $n$-ième de $x$ telle que:  \n",
    "\n",
    "$$\n",
    "puissance(x,n)=\n",
    "\\begin{cases}\n",
    "1 & \\text{si } n=0\\\\\n",
    "puissance(x,n-1)\\times x & \\text{si } n>0\n",
    "\\end{cases}\n",
    "$$  \n",
    "\n",
    "Coder de manière récursive cette fonction en python."
   ]
  },
  {
   "cell_type": "code",
   "execution_count": null,
   "metadata": {},
   "outputs": [],
   "source": [
    "def puissance(x, n):\n",
    "    # Supprimer l'instruction 'pass' et compléter avec votre code\n",
    "    pass"
   ]
  },
  {
   "cell_type": "code",
   "execution_count": null,
   "metadata": {},
   "outputs": [],
   "source": [
    "#Cellule de test - Décommenter et exécuter\n",
    "#q1.correction(puissance)"
   ]
  },
  {
   "cell_type": "markdown",
   "metadata": {},
   "source": [
    "## La récursivité: simple et magique ?"
   ]
  },
  {
   "cell_type": "markdown",
   "metadata": {},
   "source": [
    "Pour bien comprendre le déroulement de l'exécution de la fonction récursive `somme_rec`, analysons l'appel `somme_rec(4)` (*on dit aussi l'arbre d'appels*).  \n",
    "```\n",
    "somme_rec(4)--> return  4 + somme_rec(3)\n",
    "                            |\n",
    "                            return 3 + somme_rec(2)\n",
    "                                        |\n",
    "                                        return 2 + somme_rec(1)\n",
    "                                                    |\n",
    "                                                    return 1 + somme_rec(0)\n",
    "                                                                |\n",
    "                                                                return 0\n",
    "```\n",
    "L'appel de `somme_rec(4)` provoque une série d'appels en cascade jusqu'à l'appel `somme_rec(0)` qui renvoit 0. A ce moment là, `somme_rec(1)` peut se terminer en renvoyant 1, puis `somme_rec(2)` en renvoyant 3, etc.  \n",
    "\n",
    "Cette succession d'appels rend naturellement les **boucles inutiles** dans dans une fonction récursive.  \n",
    "\n",
    "Chaque appel de fonction se traduit par le stockage dans une zone mémoire appelée **pile**, de données liées au contexte d'exécution de la fonction appelante (*adresse de retour, paramètres de la fonction, etc.*). \n",
    "\n",
    "**Exercice d'application directe**  \n",
    "Analyser l'arbre d'appels de `puissance(2, 4)` et justifier la valeur renvoyée."
   ]
  },
  {
   "cell_type": "code",
   "execution_count": null,
   "metadata": {},
   "outputs": [],
   "source": [
    "#Votre analyse ici"
   ]
  },
  {
   "cell_type": "markdown",
   "metadata": {},
   "source": [
    "## D'autres exemples de fonctions récursives - précautions"
   ]
  },
  {
   "cell_type": "markdown",
   "metadata": {},
   "source": [
    "### La suite de Fibonacci: écriture d'une fonction récursive naïve  \n",
    "\n",
    "Cette suite est définie pour tout entier naturel $n$, par:  \n",
    "\n",
    "$$\n",
    "F(n)=\n",
    "\\begin{cases}\n",
    "n & \\text{si } n<2\\\\\n",
    "F(n-1) + F(n-2)& \\text{si } n\\geq 2\n",
    "\\end{cases}\n",
    "$$  \n",
    "\n",
    "Ecrire une fonction récursive en python `fib(n)` qui renvoie le calcul du $(n+1)$-ième terme de la suite de Fibonacci, compte tenu de la définition ci-dessus."
   ]
  },
  {
   "cell_type": "code",
   "execution_count": null,
   "metadata": {},
   "outputs": [],
   "source": [
    "def fib(n):\n",
    "    # Supprimer 'pass' et compléter avec votre code\n",
    "    pass"
   ]
  },
  {
   "cell_type": "code",
   "execution_count": null,
   "metadata": {},
   "outputs": [],
   "source": [
    "#Auto-évaluation - Décommenter et exécuter\n",
    "#q2.correction(fib)"
   ]
  },
  {
   "cell_type": "markdown",
   "metadata": {},
   "source": [
    "### Analyse de la fonction naïve"
   ]
  },
  {
   "cell_type": "markdown",
   "metadata": {},
   "source": [
    "Jupyter Notebook possède une extension intéressante (les *magic commands*) qui permet d'appeler une fonction python (ou autre). On va utiliser la commande `%timeit fib(n)` pour mesurer le temps d'exécution de `fib(n)`.  \n",
    "Par exemple:  \n",
    "```python\n",
    "%timeit fib(10)\n",
    "```  \n",
    "\n",
    "Les résultats sont consignés dans le tableau ci-dessous:  \n",
    "\n",
    "| n  \t| %timeit fib(n) \t|\n",
    "|----\t|:--------------:\t|\n",
    "| 5  \t|     1.2 µs     \t|\n",
    "| 10 \t|      14 µs     \t|\n",
    "| 20 \t|     1.7 ms     \t|\n",
    "| 30 \t|     0.22 s     \t|\n",
    "| 35 \t|      2.4 s     \t|\n"
   ]
  },
  {
   "cell_type": "markdown",
   "metadata": {},
   "source": [
    "On constate que la complexité explose rapidement. Essayons de comprendre pourquoi en examinant une partie de l'arbre d'appels de `fib(5)` par exemple.  \n",
    "![fibo5](img/fib5.png)  \n",
    "\n",
    "Des calculs déjà effectués lors de l'appel de `fib(4)` sont à nouveau effectués lors de l'appel de `fib(3)` !!  \n",
    "\n",
    "**Conclusion  \n",
    "La traduction naïve d'une fonction mathématique en une fonction récursive peut conduire à une complexité inacceptable.**  \n",
    "*Des techniques simples existent pour régler le problème précédent et seront abordées plus loin dans le cours de terminale*."
   ]
  },
  {
   "cell_type": "markdown",
   "metadata": {},
   "source": [
    "### Retour sur la pile"
   ]
  },
  {
   "cell_type": "markdown",
   "metadata": {},
   "source": [
    "Après l'avoir décommenter, exécuter la cellule suivante et analyser le résultat obtenu."
   ]
  },
  {
   "cell_type": "code",
   "execution_count": null,
   "metadata": {},
   "outputs": [],
   "source": [
    "\"\"\"def f(n):\n",
    "    return 1 + f(n + 1)\n",
    "\n",
    "f(0)\n",
    "\"\"\""
   ]
  },
  {
   "cell_type": "code",
   "execution_count": null,
   "metadata": {},
   "outputs": [],
   "source": [
    "#Votre analyse"
   ]
  },
  {
   "cell_type": "markdown",
   "metadata": {},
   "source": [
    "**Conclusion**  \n",
    "**La taille de la pile est limitée, le nombre d'appels récursifs est donc limité aussi**. Python limite naturellement et assez sévèrement d'ailleurs, le nombre d'appels récursifs. On peut avoir une idée de cette limite avec le code suivant:"
   ]
  },
  {
   "cell_type": "code",
   "execution_count": null,
   "metadata": {},
   "outputs": [],
   "source": [
    "import sys\n",
    "print(sys.getrecursionlimit())"
   ]
  },
  {
   "cell_type": "markdown",
   "metadata": {},
   "source": [
    "## Bien écrire des fonctions récursives"
   ]
  },
  {
   "cell_type": "markdown",
   "metadata": {},
   "source": [
    "Il est généralement simple de *traduire* une fonction mathématique définie par récurrence en une fonction récursive python.  \n",
    "On veillera néanmoins à ce que le schéma suivant soit toujours présent dans la définition de la fonction:  \n",
    "\n",
    "```python\n",
    "def f_rec(parametres):\n",
    "    if condition:\n",
    "        #cas de base: cas trivial où la fonction termine\n",
    "        return valeur\n",
    "    else:\n",
    "        #cas récursifs où on appelle à nouveau f_rec\n",
    "        return f_rec(...)\n",
    "```\n",
    "Les différents cas sont typiquement examinés avec des tests `if ... else`. Enfin, le cas de base peut être ... constitué de plusieurs cas!"
   ]
  },
  {
   "cell_type": "markdown",
   "metadata": {},
   "source": [
    "## A retenir"
   ]
  },
  {
   "cell_type": "markdown",
   "metadata": {},
   "source": [
    "La récursivité est une technique de programmation élégante, très proche de la définition mathématique des fonctions ou des problèmes. Les boucles y sont inutiles.   \n",
    "Une fonction récursive est généralement constitué d'un ou de plusieurs cas de base, qui permet(tent) à la fonction de terminer et de cas récursifs.  \n",
    "La récursivité repose sur l'utilisation d'une zone mémoire appelée pile, de capacité limitée. Une erreur est signalée lors d'une tentative de dépassement de cette capacité.  \n",
    "Enfin, il faut toujours être vigilant sur le fait que cette technique appliquée de manière naïve peut engendrer une complexité inacceptable."
   ]
  },
  {
   "cell_type": "code",
   "execution_count": null,
   "metadata": {},
   "outputs": [],
   "source": []
  }
 ],
 "metadata": {
  "kernelspec": {
   "display_name": "Python 3",
   "language": "python",
   "name": "python3"
  },
  "language_info": {
   "codemirror_mode": {
    "name": "ipython",
    "version": 3
   },
   "file_extension": ".py",
   "mimetype": "text/x-python",
   "name": "python",
   "nbconvert_exporter": "python",
   "pygments_lexer": "ipython3",
   "version": "3.7.3"
  },
  "toc": {
   "base_numbering": 1,
   "nav_menu": {},
   "number_sections": true,
   "sideBar": true,
   "skip_h1_title": false,
   "title_cell": "Table of Contents",
   "title_sidebar": "Contents",
   "toc_cell": false,
   "toc_position": {},
   "toc_section_display": true,
   "toc_window_display": true
  }
 },
 "nbformat": 4,
 "nbformat_minor": 4
}
